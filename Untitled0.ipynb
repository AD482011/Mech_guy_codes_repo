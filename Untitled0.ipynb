{
  "nbformat": 4,
  "nbformat_minor": 0,
  "metadata": {
    "colab": {
      "name": "Untitled0.ipynb",
      "provenance": [],
      "authorship_tag": "ABX9TyP7P/TayzzDhMY6gX36orF8",
      "include_colab_link": true
    },
    "kernelspec": {
      "name": "python3",
      "display_name": "Python 3"
    },
    "language_info": {
      "name": "python"
    }
  },
  "cells": [
    {
      "cell_type": "markdown",
      "metadata": {
        "id": "view-in-github",
        "colab_type": "text"
      },
      "source": [
        "<a href=\"https://colab.research.google.com/github/AD482011/Mech_guy_codes_repo/blob/main/Untitled0.ipynb\" target=\"_parent\"><img src=\"https://colab.research.google.com/assets/colab-badge.svg\" alt=\"Open In Colab\"/></a>"
      ]
    },
    {
      "cell_type": "code",
      "execution_count": 1,
      "metadata": {
        "id": "ktJSdeCYKDCl"
      },
      "outputs": [],
      "source": [
        "x = lambda a,b:a+b\n"
      ]
    },
    {
      "cell_type": "code",
      "source": [
        "print(x(4,5))"
      ],
      "metadata": {
        "colab": {
          "base_uri": "https://localhost:8080/"
        },
        "id": "jpL1BgbrKOg_",
        "outputId": "b5a3314d-7832-40c9-cba6-d2684223c040"
      },
      "execution_count": 2,
      "outputs": [
        {
          "output_type": "stream",
          "name": "stdout",
          "text": [
            "9\n"
          ]
        }
      ]
    },
    {
      "cell_type": "code",
      "source": [
        "def calculator (a,b):\n",
        "  return a+b,a-b,a*b,a/b"
      ],
      "metadata": {
        "id": "CqLfvOaMKcBm"
      },
      "execution_count": 3,
      "outputs": []
    },
    {
      "cell_type": "code",
      "source": [
        "var_sum,var_minus,var_multi,var_div = calculator(4,5)"
      ],
      "metadata": {
        "id": "6eBQ7LpgKd20"
      },
      "execution_count": 4,
      "outputs": []
    },
    {
      "cell_type": "code",
      "source": [
        "print(var_sum,\n",
        "      var_minus,\n",
        "      var_multi,\n",
        "      var_div)"
      ],
      "metadata": {
        "colab": {
          "base_uri": "https://localhost:8080/"
        },
        "id": "hDYTzjyzKfCt",
        "outputId": "e4e6bcee-6cff-4609-eee9-5fbb1e68a137"
      },
      "execution_count": 6,
      "outputs": [
        {
          "output_type": "stream",
          "name": "stdout",
          "text": [
            "9 -1 20 0.8\n"
          ]
        }
      ]
    },
    {
      "cell_type": "code",
      "source": [
        "def hund (a):\n",
        "  return a*100,a-100,a/100"
      ],
      "metadata": {
        "id": "EQjqzOc4tf-7"
      },
      "execution_count": 1,
      "outputs": []
    },
    {
      "cell_type": "code",
      "source": [
        "var_per,var_min,var_divid = hund(500)"
      ],
      "metadata": {
        "id": "hUgcgtJDtwRy"
      },
      "execution_count": 2,
      "outputs": []
    },
    {
      "cell_type": "code",
      "source": [
        "print(var_per,var_min,var_divid)"
      ],
      "metadata": {
        "colab": {
          "base_uri": "https://localhost:8080/"
        },
        "id": "b3PkO32Jt6Xh",
        "outputId": "635262e3-00e3-4d88-9b38-7e54cf79f3bd"
      },
      "execution_count": 3,
      "outputs": [
        {
          "output_type": "stream",
          "name": "stdout",
          "text": [
            "50000 400 5.0\n"
          ]
        }
      ]
    },
    {
      "cell_type": "code",
      "source": [
        "y = lambda a:a*100"
      ],
      "metadata": {
        "id": "2I75cxR4uAG5"
      },
      "execution_count": 4,
      "outputs": []
    },
    {
      "cell_type": "code",
      "source": [
        "print(y(5))"
      ],
      "metadata": {
        "colab": {
          "base_uri": "https://localhost:8080/"
        },
        "id": "sCjWiOV4uGYA",
        "outputId": "a5c51ee0-da2c-4946-d463-2443461b57ae"
      },
      "execution_count": 5,
      "outputs": [
        {
          "output_type": "stream",
          "name": "stdout",
          "text": [
            "500\n"
          ]
        }
      ]
    }
  ]
}